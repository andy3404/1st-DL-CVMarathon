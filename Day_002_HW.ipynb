{
 "cells": [
  {
   "cell_type": "markdown",
   "metadata": {},
   "source": [
    "## [作業目標]\n",
    "了解機器學習適合應用的領域與範疇。"
   ]
  },
  {
   "cell_type": "markdown",
   "metadata": {},
   "source": [
    "## [作業重點]\n",
    "透過瞭解機器學習的運作方式，找出非常適用機器學習應用的領域及其原因"
   ]
  },
  {
   "cell_type": "markdown",
   "metadata": {},
   "source": [
    "## 作業\n",
    "請找出一個你認為機器學習可以發光發熱的領域並闡述原因? "
   ]
  },
  {
   "cell_type": "code",
   "execution_count": 2,
   "metadata": {},
   "outputs": [
    {
     "ename": "SyntaxError",
     "evalue": "invalid character in identifier (<ipython-input-2-d241779299b3>, line 1)",
     "output_type": "error",
     "traceback": [
      "\u001b[1;36m  File \u001b[1;32m\"<ipython-input-2-d241779299b3>\"\u001b[1;36m, line \u001b[1;32m1\u001b[0m\n\u001b[1;33m    我覺得機器學習可以運用在農業研究中的外表型調查。環境因素對作物的影響很大，因此一般都會希望透過大量種植並取得大量的資料了解真正有興趣的因子(例如品種)對目標的性狀真正的影響。\u001b[0m\n\u001b[1;37m                                                                        ^\u001b[0m\n\u001b[1;31mSyntaxError\u001b[0m\u001b[1;31m:\u001b[0m invalid character in identifier\n"
     ]
    }
   ],
   "source": [
    "我覺得機器學習可以運用在農業研究中的外表型調查。環境因素對作物的影響很大，因此一般都會希望透過大量種植並取得大量的資料了解真正有興趣的因子(例如品種)對目標的性狀真正的影響。\n",
    "但是在取得大量資料的同時，例如對植物進行連續拍攝取得大量影像，或是機械性的測量各項生理指標，我們並不知道哪些指標成分才是真正的關鍵。透過機器學習，或許能夠讓我們從這些大量的資料中，得到關鍵的指標，來評估作物在特定性狀上真正的表現。\n",
    "此外，隨著定序技術越來越好，目前已經能夠大量取得植物遺傳因子(DNA and RNA)，如何聯結基因型資料與外表型資料並建立出有效的模型，透過定序來預測植物的表現，也是機器學習可以運用的地方。"
   ]
  }
 ],
 "metadata": {
  "kernelspec": {
   "display_name": "Python 3",
   "language": "python",
   "name": "python3"
  },
  "language_info": {
   "codemirror_mode": {
    "name": "ipython",
    "version": 3
   },
   "file_extension": ".py",
   "mimetype": "text/x-python",
   "name": "python",
   "nbconvert_exporter": "python",
   "pygments_lexer": "ipython3",
   "version": "3.8.3"
  }
 },
 "nbformat": 4,
 "nbformat_minor": 2
}
